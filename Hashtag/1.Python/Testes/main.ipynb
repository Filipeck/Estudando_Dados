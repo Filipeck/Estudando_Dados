{
 "cells": [
  {
   "cell_type": "code",
   "execution_count": 1,
   "metadata": {
    "scrolled": true
   },
   "outputs": [
    {
     "name": "stdout",
     "output_type": "stream",
     "text": [
      "['quarto item', 'terceiro item', 'segundo item']\n",
      "123\n"
     ]
    }
   ],
   "source": [
    "lista_teste = ['primeiro item', 'segundo item', 'terceiro item', 'quarto item', '123', '456', '789', '101112']\n",
    "print(lista_teste[-5:0:-1])\n",
    "\n",
    "i = lista_teste.index('123')\n",
    "print(lista_teste[i])"
   ]
  },
  {
   "cell_type": "code",
   "execution_count": 3,
   "metadata": {},
   "outputs": [
    {
     "name": "stdout",
     "output_type": "stream",
     "text": [
      "Teste\n"
     ]
    }
   ],
   "source": [
    "tpp = [('Filipe', 33, 1991, 'Data Analyst')]\n",
    "\n",
    "for nome, idade, ano, sonho in tpp:\n",
    "    print('Teste')"
   ]
  },
  {
   "cell_type": "code",
   "execution_count": 18,
   "metadata": {},
   "outputs": [
    {
     "name": "stdout",
     "output_type": "stream",
     "text": [
      "['cinco', '14', '57', 'True', 'tchau', 'numb', '570.0']\n",
      "[44, 55, 66, 77, 88, 99, 100]\n",
      "['cinco', '14', '57', 'True', 'tchau', 'numb', '570.0', 44, 55, 66, 77, 88, 99, 100]\n",
      "cinco\n",
      " ^^14\n",
      " ^^57\n",
      " ^^True\n",
      " ^^tchau\n",
      " ^^numb\n",
      " ^^570.0\n"
     ]
    }
   ],
   "source": [
    "lista_teste = ['cinco', '14', '57', 'True', 'tchau', 'numb', '570.0']\n",
    "lista_teste2 = [44, 55, 66, 77, 88, 99, 100]\n",
    "\n",
    "listao = lista_teste + lista_teste2\n",
    "print(lista_teste, lista_teste2, listao, sep='\\n')\n",
    "print('\\n'.join(lista_teste))"
   ]
  },
  {
   "cell_type": "code",
   "execution_count": 3,
   "metadata": {},
   "outputs": [
    {
     "name": "stdout",
     "output_type": "stream",
     "text": [
      "Digite o valor procurado: 456\n",
      "5\n"
     ]
    }
   ],
   "source": [
    "procura = input('Digite o valor procurado: ')\n",
    "\n",
    "if not procura in lista_teste:\n",
    "    print('Digite novamente, valor não existe na lista @_@')\n",
    "else:\n",
    "    print(lista_teste.index(procura))"
   ]
  },
  {
   "cell_type": "code",
   "execution_count": 1,
   "metadata": {},
   "outputs": [
    {
     "name": "stdout",
     "output_type": "stream",
     "text": [
      "[2367, 2208, 3485, 6189, 2856, 8645, 9522, 1735, 7555, 904, 879, 6320, 5963, 6409, 764, 7394, 3352, 7616, 6604, 5051, 1525, 2759, 5729, 1778, 7001, 9484, 742, 9182, 2438, 6858, 1637, 9652, 6603, 8689, 2270, 7077, 2781, 2587, 6344, 9646, 7805, 2689, 3423, 9154, 9056, 3390, 1068, 8457, 7100, 9986, 8159, 3784, 3705, 7982, 1309, 7381, 3015, 4840, 1162, 8097, 7978, 6256, 9082, 9266, 9958, 7499, 4413, 7839, 5266, 1036, 5193, 1375, 3104, 7743, 6038, 1906, 7184, 3845, 4357, 2773, 3042, 1031, 9126, 9515, 6979, 6606, 9162, 8748, 7926, 635, 7825, 3529, 8305, 4491, 2209, 1014, 3941, 6955, 4079, 5282]\n"
     ]
    }
   ],
   "source": [
    "import random\n",
    "\n",
    "lista = [random.randint(500, 10000) for _ in range(100)]\n",
    "print(lista)"
   ]
  },
  {
   "cell_type": "code",
   "execution_count": 3,
   "metadata": {},
   "outputs": [
    {
     "data": {
      "text/plain": [
       "9.0"
      ]
     },
     "execution_count": 3,
     "metadata": {},
     "output_type": "execute_result"
    }
   ],
   "source": [
    "6/2*(2+1)"
   ]
  },
  {
   "cell_type": "code",
   "execution_count": null,
   "metadata": {},
   "outputs": [],
   "source": []
  }
 ],
 "metadata": {
  "kernelspec": {
   "display_name": "Python 3 (ipykernel)",
   "language": "python",
   "name": "python3"
  },
  "language_info": {
   "codemirror_mode": {
    "name": "ipython",
    "version": 3
   },
   "file_extension": ".py",
   "mimetype": "text/x-python",
   "name": "python",
   "nbconvert_exporter": "python",
   "pygments_lexer": "ipython3",
   "version": "3.10.13"
  }
 },
 "nbformat": 4,
 "nbformat_minor": 2
}
